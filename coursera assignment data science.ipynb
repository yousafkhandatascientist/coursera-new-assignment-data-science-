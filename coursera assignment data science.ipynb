{
  "metadata": {
    "language_info": {
      "codemirror_mode": {
        "name": "python",
        "version": 3
      },
      "file_extension": ".py",
      "mimetype": "text/x-python",
      "name": "python",
      "nbconvert_exporter": "python",
      "pygments_lexer": "ipython3",
      "version": "3.8"
    },
    "kernelspec": {
      "name": "python",
      "display_name": "Python (Pyodide)",
      "language": "python"
    }
  },
  "nbformat_minor": 4,
  "nbformat": 4,
  "cells": [
    {
      "cell_type": "markdown",
      "source": "# Data Science Tools and Ecosystem",
      "metadata": {}
    },
    {
      "cell_type": "markdown",
      "source": "In this notebook,Data Science tools and Ecosystem are summarized.",
      "metadata": {}
    },
    {
      "cell_type": "markdown",
      "source": "List Data Science Languages\n1) Python\n2) R\n3) SQL",
      "metadata": {}
    },
    {
      "cell_type": "markdown",
      "source": "List Data Science Libraries\n1)Numpy\n2)Pandas\n3)Seaborn",
      "metadata": {}
    },
    {
      "cell_type": "markdown",
      "source": "|Table of Data Science Tools|\n|---------------------------|\n|           Tableau         |\n|           POWER BI        |\n|           APACHE SPARK    |",
      "metadata": {}
    },
    {
      "cell_type": "markdown",
      "source": "Introducing arithmetic expression examples\n\n(12/4)+6",
      "metadata": {}
    },
    {
      "cell_type": "code",
      "source": "#converting 120 minutes to hours\n\n120/60",
      "metadata": {
        "trusted": true
      },
      "execution_count": 4,
      "outputs": [
        {
          "execution_count": 4,
          "output_type": "execute_result",
          "data": {
            "text/plain": "2.0"
          },
          "metadata": {}
        }
      ]
    },
    {
      "cell_type": "markdown",
      "source": "Objectives:\n* Add comments to code cells\n* Create markdown cells\n* Add ordered and unordered lists to mark down cells\n* Format content of mark down cells with heading styles",
      "metadata": {}
    },
    {
      "cell_type": "markdown",
      "source": "## Author\n\nMuhammad Yousaf Khan",
      "metadata": {}
    }
  ]
}